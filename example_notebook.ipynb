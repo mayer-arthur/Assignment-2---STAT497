{
 "cells": [
  {
   "cell_type": "code",
   "execution_count": null,
   "id": "426aff7e-d6fe-4d07-9c85-d3210b707557",
   "metadata": {},
   "outputs": [],
   "source": [
    "#Assignment 2 — Volleyball Court to Scale (Jupyter)\n",
    "#This notebook draws an indoor volleyball court to scale using meters and a world→pixel mapping, then saves a PNG."
   ]
  },
  {
   "cell_type": "code",
   "execution_count": 1,
   "id": "0bac5bbe-5752-4630-bbfa-48a65d910875",
   "metadata": {},
   "outputs": [
    {
     "name": "stdout",
     "output_type": "stream",
     "text": [
      "Note: you may need to restart the kernel to use updated packages.\n"
     ]
    }
   ],
   "source": [
    "%pip -q install matplotlib"
   ]
  },
  {
   "cell_type": "code",
   "execution_count": 2,
   "id": "52d29d94-bf74-4de6-b7ab-58bcb04b948d",
   "metadata": {},
   "outputs": [],
   "source": [
    "import os\n",
    "import matplotlib.pyplot as plt\n",
    "\n",
    "#Dimensions in meters (official indoor volleyball)\n",
    "COURT_LENGTH_M = 18.0   #length\n",
    "COURT_WIDTH_M  = 9.0    #width\n",
    "LINE_WIDTH_M   = 0.05   #boundary/center/attack line width = 5 cm\n",
    "ATTACK_DIST_M  = 3.0    #attack lines are 3 m from the centerline on EACH side\n",
    "\n",
    "# Single scale: world (m) → pixels\n",
    "SCALE_PX_PER_M = 60     #change this one number to resize everything consistently\n",
    "\n",
    "def m_to_px(val_m: float) -> float:\n",
    "    return val_m * SCALE_PX_PER_M"
   ]
  },
  {
   "cell_type": "code",
   "execution_count": 3,
   "id": "5199a188-d413-4e8e-8b41-ddc2fb84d408",
   "metadata": {},
   "outputs": [],
   "source": [
    "def draw_volleyball_court(save_dir=\"outputs\"):\n",
    "    # Convert world sizes to pixels\n",
    "    court_len_px = m_to_px(COURT_LENGTH_M)\n",
    "    court_wid_px = m_to_px(COURT_WIDTH_M)\n",
    "    line_w_px    = max(1.0, m_to_px(LINE_WIDTH_M))  #keep visible\n",
    "\n",
    "    #Figure sized to the court (roughly 100 px/inch)\n",
    "    fig = plt.figure(figsize=(court_len_px/100, court_wid_px/100), dpi=100)\n",
    "    ax = plt.gca()\n",
    "\n",
    "    #Outer boundary rectangle\n",
    "    outer = plt.Rectangle((0, 0), court_len_px, court_wid_px, fill=False, linewidth=line_w_px)\n",
    "    ax.add_patch(outer)\n",
    "\n",
    "    #Center line at half the court length\n",
    "    center_x = m_to_px(COURT_LENGTH_M / 2)\n",
    "    ax.plot([center_x, center_x], [0, court_wid_px], linewidth=line_w_px)\n",
    "\n",
    "    #Attack lines at +-3 m from center\n",
    "    attack_left_x  = center_x - m_to_px(ATTACK_DIST_M)\n",
    "    attack_right_x = center_x + m_to_px(ATTACK_DIST_M)\n",
    "    ax.plot([attack_left_x,  attack_left_x],  [0, court_wid_px], linewidth=line_w_px)\n",
    "    ax.plot([attack_right_x, attack_right_x], [0, court_wid_px], linewidth=line_w_px)\n",
    "\n",
    "    #Make it look right\n",
    "    ax.set_aspect('equal', adjustable='box')\n",
    "    ax.set_xlim(0, court_len_px)\n",
    "    ax.set_ylim(0, court_wid_px)\n",
    "    ax.set_xticks([]); ax.set_yticks([])\n",
    "\n",
    "    #Save PNG\n",
    "    os.makedirs(save_dir, exist_ok=True)\n",
    "    out_path = os.path.join(save_dir, f\"volleyball_court_{int(SCALE_PX_PER_M)}pxperm.png\")\n",
    "    plt.savefig(out_path, bbox_inches='tight', pad_inches=0.02)\n",
    "    print(f\"Saved: {out_path}\")\n",
    "\n",
    "    return fig, ax"
   ]
  },
  {
   "cell_type": "code",
   "execution_count": 4,
   "id": "4efa2ba6-6d41-4862-9564-7e10502e4b93",
   "metadata": {},
   "outputs": [
    {
     "name": "stdout",
     "output_type": "stream",
     "text": [
      "Saved: outputs\\volleyball_court_60pxperm.png\n"
     ]
    },
    {
     "data": {
      "image/png": "[encoded data removed]",
      "text/plain": [
       "<Figure size 1080x540 with 1 Axes>"
      ]
     },
     "metadata": {},
     "output_type": "display_data"
    }
   ],
   "source": [
    "fig, ax = draw_volleyball_court()\n",
    "plt.show()"
   ]
  }
 ],
 "metadata": {
  "kernelspec": {
   "display_name": "Python [conda env:base] *",
   "language": "python",
   "name": "conda-base-py"
  },
  "language_info": {
   "codemirror_mode": {
    "name": "ipython",
    "version": 3
   },
   "file_extension": ".py",
   "mimetype": "text/x-python",
   "name": "python",
   "nbconvert_exporter": "python",
   "pygments_lexer": "ipython3",
   "version": "3.13.5"
  }
 },
 "nbformat": 4,
 "nbformat_minor": 5
}
